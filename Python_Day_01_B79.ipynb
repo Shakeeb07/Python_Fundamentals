{
 "cells": [
  {
   "cell_type": "code",
   "execution_count": 1,
   "id": "4fb0d01b",
   "metadata": {},
   "outputs": [
    {
     "name": "stdout",
     "output_type": "stream",
     "text": [
      "Hello Faiyaz Sir , I'm Your Online Student Of Python Fundamentals Batch 79\n"
     ]
    }
   ],
   "source": [
    "print (\"Hello Faiyaz Sir , I'm Your Online Student Of Python Fundamentals Batch 79\")"
   ]
  },
  {
   "cell_type": "code",
   "execution_count": null,
   "id": "a28d8568",
   "metadata": {},
   "outputs": [],
   "source": []
  }
 ],
 "metadata": {
  "kernelspec": {
   "display_name": "Python 3 (ipykernel)",
   "language": "python",
   "name": "python3"
  },
  "language_info": {
   "codemirror_mode": {
    "name": "ipython",
    "version": 3
   },
   "file_extension": ".py",
   "mimetype": "text/x-python",
   "name": "python",
   "nbconvert_exporter": "python",
   "pygments_lexer": "ipython3",
   "version": "3.10.9"
  }
 },
 "nbformat": 4,
 "nbformat_minor": 5
}
